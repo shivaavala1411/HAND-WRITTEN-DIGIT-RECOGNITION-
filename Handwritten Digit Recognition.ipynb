{
 "cells": [
  {
   "cell_type": "code",
   "execution_count": 1,
   "id": "40166504-35ab-4bec-9a69-7c82c547b610",
   "metadata": {},
   "outputs": [],
   "source": [
    "import pandas as pd\n",
    "from keras.datasets import mnist\n",
    "import matplotlib.pyplot as plt\n",
    "plt.style.use('fivethirtyeight')\n",
    "import warnings as war\n",
    "war.filterwarnings('ignore')"
   ]
  },
  {
   "cell_type": "code",
   "execution_count": 2,
   "id": "3f1b8bad-5a99-45cd-a469-9afc3ba4e670",
   "metadata": {},
   "outputs": [],
   "source": [
    "(X_train,y_train),(X_test,y_test) = mnist.load_data()"
   ]
  },
  {
   "cell_type": "code",
   "execution_count": 3,
   "id": "0fd3641a-d14a-4347-b5d6-6a49c074f9ef",
   "metadata": {},
   "outputs": [
    {
     "name": "stdout",
     "output_type": "stream",
     "text": [
      "(60000, 28, 28)\n",
      "(10000, 28, 28)\n",
      "(60000,)\n",
      "(10000,)\n"
     ]
    }
   ],
   "source": [
    "print(X_train.shape)\n",
    "print(X_test.shape)\n",
    "print(y_train.shape)\n",
    "print(y_test.shape)"
   ]
  },
  {
   "cell_type": "code",
   "execution_count": 4,
   "id": "4c5d39f6-7fe8-4bcf-9619-9db96b0e0cf6",
   "metadata": {},
   "outputs": [
    {
     "data": {
      "image/png": "[encoded data removed]",
      "text/plain": [
       "<Figure size 640x480 with 25 Axes>"
      ]
     },
     "metadata": {},
     "output_type": "display_data"
    }
   ],
   "source": [
    "fig,ax = plt.subplots(5,5)\n",
    "for i,axs in enumerate(ax.flat):\n",
    "  axs.imshow(X_train[i],cmap='binary',interpolation = 'nearest')\n",
    "  axs.set_xticks([])\n",
    "  axs.set_yticks([])\n",
    "  axs.axis('off')"
   ]
  },
  {
   "cell_type": "code",
   "execution_count": 5,
   "id": "c568592d-2cdc-4f1d-b005-058904465b98",
   "metadata": {},
   "outputs": [],
   "source": [
    "from tensorflow.keras import backend as K\n",
    "from tensorflow.keras.utils import to_categorical\n",
    "from tensorflow.keras.models import Sequential\n",
    "from tensorflow.keras.layers import Conv2D, MaxPooling2D, Dropout, Flatten, Dense, BatchNormalization"
   ]
  },
  {
   "cell_type": "code",
   "execution_count": 6,
   "id": "5e1fb6a7-9f22-4cc2-9016-5af6f2397689",
   "metadata": {},
   "outputs": [
    {
     "name": "stdout",
     "output_type": "stream",
     "text": [
      "X_train shape: (60000, 28, 28, 1)\n",
      "y_train shape: (60000,)\n",
      "y_train (one-hot) shape: (60000, 10)\n",
      "One-hot encoded y_train shape: (60000, 10)\n"
     ]
    }
   ],
   "source": [
    "# reshape dataset to have a single channel\n",
    "X_train = X_train.reshape((X_train.shape[0], 28,28,1))\n",
    "X_test = X_test.reshape((X_test.shape[0], 28, 28,1))\n",
    "\n",
    "X_train = X_train.astype('float32')\n",
    "X_test = X_test.astype('float32')\n",
    "X_train /= 255\n",
    "X_test /= 255\n",
    "\n",
    "if X_train is None or y_train is None or X_test is None or y_test is None:\n",
    "    raise ValueError(\"One of the datasets is not properly loaded.\")\n",
    "\n",
    "print(\"X_train shape:\", X_train.shape)\n",
    "print(\"y_train shape:\", y_train.shape)\n",
    "\n",
    "#one hot encoder for y\n",
    "y_train = to_categorical(y_train)\n",
    "y_test = to_categorical(y_test)\n",
    "\n",
    "print(\"y_train (one-hot) shape:\", y_train.shape)\n",
    "\n",
    "if len(y_train.shape) == 1:  # Check if y_train is not already one-hot encoded\n",
    "    y_train = to_categorical(y_train, num_classes=10)\n",
    "\n",
    "if len(y_test.shape) == 1:  # Check if y_test is not already one-hot encoded\n",
    "    y_test = to_categorical(y_test, num_classes=10)\n",
    "\n",
    "# Check shape of y_train to make sure it's correct\n",
    "print(\"One-hot encoded y_train shape:\", y_train.shape) "
   ]
  },
  {
   "cell_type": "code",
   "execution_count": 7,
   "id": "e075336c-5fe7-42ac-92a7-9d1782ac665e",
   "metadata": {},
   "outputs": [
    {
     "name": "stdout",
     "output_type": "stream",
     "text": [
      "Model compiled successfully!\n"
     ]
    }
   ],
   "source": [
    "#create model\n",
    "\n",
    "model = Sequential()\n",
    "input_shape=(28,28,1)\n",
    "model.add(Conv2D(32, kernel_size=(3, 3), activation='relu',\n",
    "                              input_shape=input_shape))\n",
    "\n",
    "model.add(Conv2D(64, (3, 3), activation='relu'))\n",
    "model.add(MaxPooling2D(pool_size=(2, 2)))\n",
    "model.add(Dropout(0.25))\n",
    "model.add(Flatten())\n",
    "model.add(Dense(128, activation='relu',kernel_initializer='he_normal'))\n",
    "model.add(Dropout(0.5))\n",
    "model.add(Dense(10, activation='softmax'))\n",
    "\n",
    "#model.compile(optimizer='adam',loss='categorical_crossentropy',metrics=['accuracy'])\n",
    "\n",
    " #Compile the model and check for issues\n",
    "try:\n",
    "    model.compile(optimizer='adam', loss='categorical_crossentropy', metrics=['accuracy'])\n",
    "    print(\"Model compiled successfully!\")\n",
    "except Exception as e:\n",
    "    print(\"Error during model compilation:\", e)"
   ]
  },
  {
   "cell_type": "code",
   "execution_count": 8,
   "id": "a78a5cee-e36d-4d18-ab94-09d7072addc5",
   "metadata": {},
   "outputs": [
    {
     "name": "stdout",
     "output_type": "stream",
     "text": [
      "Model compiled successfully!\n"
     ]
    }
   ],
   "source": [
    "#create model\n",
    "\n",
    "model = Sequential()\n",
    "input_shape=(28,28,1)\n",
    "model.add(Conv2D(32, kernel_size=(3, 3), activation='relu',\n",
    "                              input_shape=input_shape))\n",
    "\n",
    "model.add(Conv2D(64, (3, 3), activation='relu'))\n",
    "model.add(MaxPooling2D(pool_size=(2, 2)))\n",
    "model.add(Dropout(0.25))\n",
    "model.add(Flatten())\n",
    "model.add(Dense(128, activation='relu',kernel_initializer='he_normal'))\n",
    "model.add(Dropout(0.5))\n",
    "model.add(Dense(10, activation='softmax'))\n",
    "\n",
    "#model.compile(optimizer='adam',loss='categorical_crossentropy',metrics=['accuracy'])\n",
    "\n",
    " #Compile the model and check for issues\n",
    "try:\n",
    "    model.compile(optimizer='adam', loss='categorical_crossentropy', metrics=['accuracy'])\n",
    "    print(\"Model compiled successfully!\")\n",
    "except Exception as e:\n",
    "    print(\"Error during model compilation:\", e)"
   ]
  },
  {
   "cell_type": "code",
   "execution_count": 9,
   "id": "52a52f70-dcf8-46e5-b0bd-7f450af472f5",
   "metadata": {},
   "outputs": [
    {
     "name": "stdout",
     "output_type": "stream",
     "text": [
      "Model compiled successfully!\n"
     ]
    }
   ],
   "source": [
    "#create model\n",
    "\n",
    "model = Sequential()\n",
    "input_shape=(28,28,1)\n",
    "model.add(Conv2D(32, kernel_size=(3, 3), activation='relu',\n",
    "                              input_shape=input_shape))\n",
    "\n",
    "model.add(Conv2D(64, (3, 3), activation='relu'))\n",
    "model.add(MaxPooling2D(pool_size=(2, 2)))\n",
    "model.add(Dropout(0.25))\n",
    "model.add(Flatten())\n",
    "model.add(Dense(128, activation='relu',kernel_initializer='he_normal'))\n",
    "model.add(Dropout(0.5))\n",
    "model.add(Dense(10, activation='softmax'))\n",
    "\n",
    "#model.compile(optimizer='adam',loss='categorical_crossentropy',metrics=['accuracy'])\n",
    "\n",
    " #Compile the model and check for issues\n",
    "try:\n",
    "    model.compile(optimizer='adam', loss='categorical_crossentropy', metrics=['accuracy'])\n",
    "    print(\"Model compiled successfully!\")\n",
    "except Exception as e:\n",
    "    print(\"Error during model compilation:\", e)"
   ]
  },
  {
   "cell_type": "code",
   "execution_count": 10,
   "id": "421c8925-f1c4-4d92-92af-601ce18446a6",
   "metadata": {},
   "outputs": [
    {
     "name": "stdout",
     "output_type": "stream",
     "text": [
      "Epoch 1/3\n",
      "\u001b[1m1875/1875\u001b[0m \u001b[32m━━━━━━━━━━━━━━━━━━━━\u001b[0m\u001b[37m\u001b[0m \u001b[1m92s\u001b[0m 35ms/step - accuracy: 0.8830 - loss: 0.3701\n",
      "Epoch 2/3\n",
      "\u001b[1m1875/1875\u001b[0m \u001b[32m━━━━━━━━━━━━━━━━━━━━\u001b[0m\u001b[37m\u001b[0m \u001b[1m66s\u001b[0m 35ms/step - accuracy: 0.9744 - loss: 0.0859\n",
      "Epoch 3/3\n",
      "\u001b[1m1875/1875\u001b[0m \u001b[32m━━━━━━━━━━━━━━━━━━━━\u001b[0m\u001b[37m\u001b[0m \u001b[1m66s\u001b[0m 35ms/step - accuracy: 0.9806 - loss: 0.0639\n"
     ]
    },
    {
     "data": {
      "text/plain": [
       "<keras.src.callbacks.history.History at 0x238b1ace190>"
      ]
     },
     "execution_count": 10,
     "metadata": {},
     "output_type": "execute_result"
    }
   ],
   "source": [
    "#fit the model\n",
    "model.fit(X_train,y_train,epochs=3)"
   ]
  },
  {
   "cell_type": "code",
   "execution_count": 11,
   "id": "75157e6e-a614-4287-b8fa-dc0bea3a7d58",
   "metadata": {},
   "outputs": [
    {
     "name": "stdout",
     "output_type": "stream",
     "text": [
      "\u001b[1m313/313\u001b[0m \u001b[32m━━━━━━━━━━━━━━━━━━━━\u001b[0m\u001b[37m\u001b[0m \u001b[1m3s\u001b[0m 6ms/step - accuracy: 0.9858 - loss: 0.0428\n",
      "Accuracy : 98.9 %\n"
     ]
    }
   ],
   "source": [
    "#testify the validity\n",
    "\n",
    "result = model.evaluate(X_test,y_test)\n",
    "print('Accuracy : {} %'.format(round(result[1]*100,1)))"
   ]
  },
  {
   "cell_type": "code",
   "execution_count": null,
   "id": "81019e81-e7c7-41a2-85a9-f0b0ee64d33c",
   "metadata": {},
   "outputs": [],
   "source": []
  }
 ],
 "metadata": {
  "kernelspec": {
   "display_name": "Python 3 (ipykernel)",
   "language": "python",
   "name": "python3"
  },
  "language_info": {
   "codemirror_mode": {
    "name": "ipython",
    "version": 3
   },
   "file_extension": ".py",
   "mimetype": "text/x-python",
   "name": "python",
   "nbconvert_exporter": "python",
   "pygments_lexer": "ipython3",
   "version": "3.11.2"
  }
 },
 "nbformat": 4,
 "nbformat_minor": 5
}
